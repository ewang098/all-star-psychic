{
  "nbformat": 4,
  "nbformat_minor": 0,
  "metadata": {
    "colab": {
      "name": "ML Project: Random Forest.ipynb",
      "provenance": [],
      "collapsed_sections": [],
      "toc_visible": true
    },
    "kernelspec": {
      "name": "python3",
      "display_name": "Python 3"
    }
  },
  "cells": [
    {
      "cell_type": "markdown",
      "metadata": {
        "id": "qy8oB5LzsPZS",
        "colab_type": "text"
      },
      "source": [
        "Will they be an all-star? -> Binary Classification\n",
        "\n",
        "Data Considerations:\n",
        "\n",
        "*   Class Imbalance Present\n",
        "    *   Oversampling - create copies of all-star data based on quantile\n",
        "    *   Undersampling - remove instances based on all-star data min,max,avg, quantile (we want data similar to all-star data so model can differentiate between the two)\n",
        "\n",
        "ML Technique: **Random Forest**\n",
        "\n",
        "Performance Metrics:\n",
        "\n",
        "\n",
        "*   Confusion Matrix\n",
        "*   AUC\n",
        "*   Precision/Recall and F1 Score\n",
        "*   ROC Curve\n",
        "\n",
        "**NEXT STEPS:**\n",
        "\n",
        "*   Use additional ML techniques and compare through performance metrics\n",
        "*   Make adjustments through validation data?\n",
        "\n",
        "\n",
        "\n",
        "\n"
      ]
    },
    {
      "cell_type": "code",
      "metadata": {
        "id": "FmDHfrLTsNCN",
        "colab_type": "code",
        "colab": {
          "base_uri": "https://localhost:8080/",
          "height": 334
        },
        "outputId": "cee39514-2b30-45d2-8873-93ced1ac5c0e"
      },
      "source": [
        "import pandas as pd\n",
        "fullData = pd.read_csv(\"all_seasons_w_all_star.csv\")\n",
        "\n",
        "#look at all columns (features)\n",
        "fullData.head()"
      ],
      "execution_count": 65,
      "outputs": [
        {
          "output_type": "execute_result",
          "data": {
            "text/html": [
              "<div>\n",
              "<style scoped>\n",
              "    .dataframe tbody tr th:only-of-type {\n",
              "        vertical-align: middle;\n",
              "    }\n",
              "\n",
              "    .dataframe tbody tr th {\n",
              "        vertical-align: top;\n",
              "    }\n",
              "\n",
              "    .dataframe thead th {\n",
              "        text-align: right;\n",
              "    }\n",
              "</style>\n",
              "<table border=\"1\" class=\"dataframe\">\n",
              "  <thead>\n",
              "    <tr style=\"text-align: right;\">\n",
              "      <th></th>\n",
              "      <th>Unnamed: 0</th>\n",
              "      <th>Unnamed: 0.1</th>\n",
              "      <th>player_name</th>\n",
              "      <th>team_abbreviation</th>\n",
              "      <th>age</th>\n",
              "      <th>player_height</th>\n",
              "      <th>player_weight</th>\n",
              "      <th>college</th>\n",
              "      <th>country</th>\n",
              "      <th>draft_year</th>\n",
              "      <th>draft_round</th>\n",
              "      <th>draft_number</th>\n",
              "      <th>gp</th>\n",
              "      <th>pts</th>\n",
              "      <th>reb</th>\n",
              "      <th>ast</th>\n",
              "      <th>net_rating</th>\n",
              "      <th>oreb_pct</th>\n",
              "      <th>dreb_pct</th>\n",
              "      <th>usg_pct</th>\n",
              "      <th>ts_pct</th>\n",
              "      <th>ast_pct</th>\n",
              "      <th>season</th>\n",
              "      <th>all_star</th>\n",
              "    </tr>\n",
              "  </thead>\n",
              "  <tbody>\n",
              "    <tr>\n",
              "      <th>0</th>\n",
              "      <td>0</td>\n",
              "      <td>0</td>\n",
              "      <td>Dennis Rodman</td>\n",
              "      <td>CHI</td>\n",
              "      <td>36.0</td>\n",
              "      <td>198.12</td>\n",
              "      <td>99.790240</td>\n",
              "      <td>Southeastern Oklahoma State</td>\n",
              "      <td>USA</td>\n",
              "      <td>1986</td>\n",
              "      <td>2</td>\n",
              "      <td>27</td>\n",
              "      <td>55</td>\n",
              "      <td>5.7</td>\n",
              "      <td>16.1</td>\n",
              "      <td>3.1</td>\n",
              "      <td>16.1</td>\n",
              "      <td>0.186</td>\n",
              "      <td>0.323</td>\n",
              "      <td>0.100</td>\n",
              "      <td>0.479</td>\n",
              "      <td>0.113</td>\n",
              "      <td>1996-97</td>\n",
              "      <td>0.0</td>\n",
              "    </tr>\n",
              "    <tr>\n",
              "      <th>1</th>\n",
              "      <td>1</td>\n",
              "      <td>1</td>\n",
              "      <td>Dwayne Schintzius</td>\n",
              "      <td>LAC</td>\n",
              "      <td>28.0</td>\n",
              "      <td>215.90</td>\n",
              "      <td>117.933920</td>\n",
              "      <td>Florida</td>\n",
              "      <td>USA</td>\n",
              "      <td>1990</td>\n",
              "      <td>1</td>\n",
              "      <td>24</td>\n",
              "      <td>15</td>\n",
              "      <td>2.3</td>\n",
              "      <td>1.5</td>\n",
              "      <td>0.3</td>\n",
              "      <td>12.3</td>\n",
              "      <td>0.078</td>\n",
              "      <td>0.151</td>\n",
              "      <td>0.175</td>\n",
              "      <td>0.430</td>\n",
              "      <td>0.048</td>\n",
              "      <td>1996-97</td>\n",
              "      <td>0.0</td>\n",
              "    </tr>\n",
              "    <tr>\n",
              "      <th>2</th>\n",
              "      <td>2</td>\n",
              "      <td>2</td>\n",
              "      <td>Earl Cureton</td>\n",
              "      <td>TOR</td>\n",
              "      <td>39.0</td>\n",
              "      <td>205.74</td>\n",
              "      <td>95.254320</td>\n",
              "      <td>Detroit Mercy</td>\n",
              "      <td>USA</td>\n",
              "      <td>1979</td>\n",
              "      <td>3</td>\n",
              "      <td>58</td>\n",
              "      <td>9</td>\n",
              "      <td>0.8</td>\n",
              "      <td>1.0</td>\n",
              "      <td>0.4</td>\n",
              "      <td>-2.1</td>\n",
              "      <td>0.105</td>\n",
              "      <td>0.102</td>\n",
              "      <td>0.103</td>\n",
              "      <td>0.376</td>\n",
              "      <td>0.148</td>\n",
              "      <td>1996-97</td>\n",
              "      <td>0.0</td>\n",
              "    </tr>\n",
              "    <tr>\n",
              "      <th>3</th>\n",
              "      <td>3</td>\n",
              "      <td>3</td>\n",
              "      <td>Ed O'Bannon</td>\n",
              "      <td>DAL</td>\n",
              "      <td>24.0</td>\n",
              "      <td>203.20</td>\n",
              "      <td>100.697424</td>\n",
              "      <td>UCLA</td>\n",
              "      <td>USA</td>\n",
              "      <td>1995</td>\n",
              "      <td>1</td>\n",
              "      <td>9</td>\n",
              "      <td>64</td>\n",
              "      <td>3.7</td>\n",
              "      <td>2.3</td>\n",
              "      <td>0.6</td>\n",
              "      <td>-8.7</td>\n",
              "      <td>0.060</td>\n",
              "      <td>0.149</td>\n",
              "      <td>0.167</td>\n",
              "      <td>0.399</td>\n",
              "      <td>0.077</td>\n",
              "      <td>1996-97</td>\n",
              "      <td>0.0</td>\n",
              "    </tr>\n",
              "    <tr>\n",
              "      <th>4</th>\n",
              "      <td>4</td>\n",
              "      <td>4</td>\n",
              "      <td>Ed Pinckney</td>\n",
              "      <td>MIA</td>\n",
              "      <td>34.0</td>\n",
              "      <td>205.74</td>\n",
              "      <td>108.862080</td>\n",
              "      <td>Villanova</td>\n",
              "      <td>USA</td>\n",
              "      <td>1985</td>\n",
              "      <td>1</td>\n",
              "      <td>10</td>\n",
              "      <td>27</td>\n",
              "      <td>2.4</td>\n",
              "      <td>2.4</td>\n",
              "      <td>0.2</td>\n",
              "      <td>-11.2</td>\n",
              "      <td>0.109</td>\n",
              "      <td>0.179</td>\n",
              "      <td>0.127</td>\n",
              "      <td>0.611</td>\n",
              "      <td>0.040</td>\n",
              "      <td>1996-97</td>\n",
              "      <td>0.0</td>\n",
              "    </tr>\n",
              "  </tbody>\n",
              "</table>\n",
              "</div>"
            ],
            "text/plain": [
              "   Unnamed: 0  Unnamed: 0.1        player_name  ... ast_pct   season  all_star\n",
              "0           0             0      Dennis Rodman  ...   0.113  1996-97       0.0\n",
              "1           1             1  Dwayne Schintzius  ...   0.048  1996-97       0.0\n",
              "2           2             2       Earl Cureton  ...   0.148  1996-97       0.0\n",
              "3           3             3        Ed O'Bannon  ...   0.077  1996-97       0.0\n",
              "4           4             4        Ed Pinckney  ...   0.040  1996-97       0.0\n",
              "\n",
              "[5 rows x 24 columns]"
            ]
          },
          "metadata": {
            "tags": []
          },
          "execution_count": 65
        }
      ]
    },
    {
      "cell_type": "code",
      "metadata": {
        "id": "xMarRZhzG836",
        "colab_type": "code",
        "colab": {}
      },
      "source": [
        "#look at just all-star data to determine conditions for non-all star data (undersampling) as well as ranges quantiles (oversampling)\n",
        "aSData = fullData.loc[fullData['all_star'] == 1.0]"
      ],
      "execution_count": 66,
      "outputs": []
    },
    {
      "cell_type": "code",
      "metadata": {
        "id": "8UwCk1MoXf3n",
        "colab_type": "code",
        "colab": {
          "base_uri": "https://localhost:8080/",
          "height": 675
        },
        "outputId": "9f127360-032e-4b93-9be4-37d3b130f4a9"
      },
      "source": [
        "#Net Rating\n",
        "meanNR= aSData['net_rating'].mean()\n",
        "minNR = aSData['net_rating'].min()\n",
        "distNR = aSData['net_rating'].quantile([0.01, 0.025, 0.05, 0.1, 0.25,.75])\n",
        "\n",
        "print('Net Rating Avg: ' + str(meanNR))\n",
        "print('Net Rating Min :' + str(minNR))\n",
        "print(distNR)\n",
        "aSData.boxplot(column='net_rating',figsize=(6,8),fontsize=24)"
      ],
      "execution_count": 67,
      "outputs": [
        {
          "output_type": "stream",
          "text": [
            "Net Rating Avg: 5.1447098976109205\n",
            "Net Rating Min :-14.3\n",
            "0.010   -6.272\n",
            "0.025   -4.940\n",
            "0.050   -2.540\n",
            "0.100   -1.200\n",
            "0.250    1.700\n",
            "0.750    8.800\n",
            "Name: net_rating, dtype: float64\n"
          ],
          "name": "stdout"
        },
        {
          "output_type": "execute_result",
          "data": {
            "text/plain": [
              "<matplotlib.axes._subplots.AxesSubplot at 0x7ff6c5f1bdd8>"
            ]
          },
          "metadata": {
            "tags": []
          },
          "execution_count": 67
        },
        {
          "output_type": "display_data",
          "data": {
            "image/png": "[encoded data removed]",
            "text/plain": [
              "<Figure size 432x576 with 1 Axes>"
            ]
          },
          "metadata": {
            "tags": [],
            "needs_background": "light"
          }
        }
      ]
    },
    {
      "cell_type": "code",
      "metadata": {
        "id": "HplDzuK_H0Wr",
        "colab_type": "code",
        "colab": {
          "base_uri": "https://localhost:8080/",
          "height": 692
        },
        "outputId": "a8b6eb2d-0e7e-4af0-8a3b-3364e91d8a58"
      },
      "source": [
        "#Games Played\n",
        "meanGP = aSData['gp'].mean()\n",
        "minGP = aSData['gp'].min()\n",
        "distGP = aSData['gp'].quantile([0.01, 0.025, 0.05, 0.1, .15, .2, 0.25])\n",
        "\n",
        "print('GP Avg: ' + str(meanGP))\n",
        "print('GP Min : ' + str(minGP))\n",
        "print(distGP)\n",
        "aSData.boxplot(column='gp',figsize=(6,8),fontsize=24)"
      ],
      "execution_count": 68,
      "outputs": [
        {
          "output_type": "stream",
          "text": [
            "GP Avg: 72.19795221843003\n",
            "GP Min : 5\n",
            "0.010    36.48\n",
            "0.025    42.60\n",
            "0.050    50.60\n",
            "0.100    55.00\n",
            "0.150    61.00\n",
            "0.200    66.00\n",
            "0.250    68.00\n",
            "Name: gp, dtype: float64\n"
          ],
          "name": "stdout"
        },
        {
          "output_type": "execute_result",
          "data": {
            "text/plain": [
              "<matplotlib.axes._subplots.AxesSubplot at 0x7ff6c5f1b198>"
            ]
          },
          "metadata": {
            "tags": []
          },
          "execution_count": 68
        },
        {
          "output_type": "display_data",
          "data": {
            "image/png": "[encoded data removed]",
            "text/plain": [
              "<Figure size 432x576 with 1 Axes>"
            ]
          },
          "metadata": {
            "tags": [],
            "needs_background": "light"
          }
        }
      ]
    },
    {
      "cell_type": "code",
      "metadata": {
        "id": "g_xsaIZ5IMWg",
        "colab_type": "code",
        "colab": {
          "base_uri": "https://localhost:8080/",
          "height": 674
        },
        "outputId": "4ca19adc-91f3-4c98-d619-d0a4e4e082ff"
      },
      "source": [
        "#Usage Rate (Percentage)\n",
        "meanUR = aSData['usg_pct'].mean()\n",
        "minUR = aSData['usg_pct'].min()\n",
        "distUR = aSData['usg_pct'].quantile([.1,.15,.2,.25,.5,.75])\n",
        "\n",
        "print('UR Avg: ' + str(meanUR))\n",
        "print('UR Min : ' + str(minUR))\n",
        "print(distUR)\n",
        "aSData.boxplot(column='usg_pct',figsize=(6,8),fontsize=24)"
      ],
      "execution_count": 69,
      "outputs": [
        {
          "output_type": "stream",
          "text": [
            "UR Avg: 0.26020477815699666\n",
            "UR Min : 0.10300000000000001\n",
            "0.10    0.2092\n",
            "0.15    0.2170\n",
            "0.20    0.2274\n",
            "0.25    0.2340\n",
            "0.50    0.2620\n",
            "0.75    0.2900\n",
            "Name: usg_pct, dtype: float64\n"
          ],
          "name": "stdout"
        },
        {
          "output_type": "execute_result",
          "data": {
            "text/plain": [
              "<matplotlib.axes._subplots.AxesSubplot at 0x7ff6c5e4eef0>"
            ]
          },
          "metadata": {
            "tags": []
          },
          "execution_count": 69
        },
        {
          "output_type": "display_data",
          "data": {
            "image/png": "[encoded data removed]",
            "text/plain": [
              "<Figure size 432x576 with 1 Axes>"
            ]
          },
          "metadata": {
            "tags": [],
            "needs_background": "light"
          }
        }
      ]
    },
    {
      "cell_type": "code",
      "metadata": {
        "id": "K-C0yX5UatmJ",
        "colab_type": "code",
        "colab": {
          "base_uri": "https://localhost:8080/",
          "height": 318
        },
        "outputId": "1e6001bf-f816-4a47-d571-4323a790103e"
      },
      "source": [
        "#Looking at non-all star for undersampling\n",
        "\n",
        "nSData = fullData.loc[fullData['all_star'] == 0.0]\n",
        "\n",
        "distNSGP = nSData['gp'].quantile([.1,.25,.5,.75])\n",
        "distNSNR = nSData['net_rating'].quantile([0.05, 0.125, 0.25, 0.5, .75])\n",
        "distNSUR = nSData['usg_pct'].quantile([0.05, 0.125, 0.25, 0.5, .75])\n",
        "\n",
        "print(distNSGP)\n",
        "print(distNSNR)\n",
        "print(distNSUR)"
      ],
      "execution_count": 70,
      "outputs": [
        {
          "output_type": "stream",
          "text": [
            "0.10    11.0\n",
            "0.25    31.0\n",
            "0.50    57.0\n",
            "0.75    74.0\n",
            "Name: gp, dtype: float64\n",
            "0.050   -17.2\n",
            "0.125   -10.6\n",
            "0.250    -6.5\n",
            "0.500    -1.5\n",
            "0.750     3.0\n",
            "Name: net_rating, dtype: float64\n",
            "0.050    0.107\n",
            "0.125    0.129\n",
            "0.250    0.149\n",
            "0.500    0.181\n",
            "0.750    0.215\n",
            "Name: usg_pct, dtype: float64\n"
          ],
          "name": "stdout"
        }
      ]
    },
    {
      "cell_type": "code",
      "metadata": {
        "id": "yAQNUNVAqB_F",
        "colab_type": "code",
        "colab": {}
      },
      "source": [
        "from __future__ import division\n",
        "from sklearn.linear_model import LogisticRegression\n",
        "from sklearn.model_selection import train_test_split\n",
        "from sklearn.feature_extraction import DictVectorizer\n",
        "import pandas as pd\n",
        "import math\n",
        "import string\n",
        "import matplotlib.pyplot as plt\n",
        "import numpy as np\n",
        "import seaborn as sns\n",
        "%matplotlib inline\n",
        "import warnings\n",
        "warnings.filterwarnings('ignore')\n",
        "import os\n",
        "import json\n",
        "import gzip\n",
        "from urllib.request import urlopen"
      ],
      "execution_count": 71,
      "outputs": []
    },
    {
      "cell_type": "code",
      "metadata": {
        "id": "zB8VTrw1h3pY",
        "colab_type": "code",
        "colab": {
          "base_uri": "https://localhost:8080/",
          "height": 34
        },
        "outputId": "e50c7eed-e7b5-4c0b-fd99-e5393d311291"
      },
      "source": [
        "#locate based on conditions then just append\n",
        "aSData = fullData.loc[fullData['all_star'] == 1.0]\n",
        "\n",
        "#All Star data standard quantiles\n",
        "minGP, maxGP = float(aSData['gp'].quantile([0.25])), float(aSData['gp'].quantile([0.75]))\n",
        "minNR, maxNR = float(aSData['net_rating'].quantile([0.25])), float(aSData['net_rating'].quantile([0.75]))\n",
        "minUR, maxUR = float(aSData['usg_pct'].quantile([0.25])), float(aSData['usg_pct'].quantile([0.75]))\n",
        "\n",
        "#acquire rows that are within range for games played, net rating, and usage rate\n",
        "aSDataGPQ = aSData.loc[(aSData['gp'] >= minGP) & (aSData['gp'] <= maxGP)]\n",
        "aSDataNRQ = aSData.loc[(aSData['net_rating'] >= 1.7) & (aSData['net_rating'] <= 8.8)]\n",
        "aSDataURQ = aSData.loc[(aSData['usg_pct'] >= .234) & (aSData['usg_pct'] <= .290)]\n",
        "\n",
        "#acquire all all-star data and non-all-star data that meets conditions based on earlier observations\n",
        "rawData = fullData.loc[((fullData['all_star'] == 0.0) & (fullData['gp'] > 55) & (fullData['net_rating'] > 1) & (fullData['usg_pct'] > .19)) | (fullData['all_star'] == 1.0)]\n",
        "\n",
        "frames = [aSDataGPQ, aSDataNRQ, aSDataURQ, rawData]\n",
        "\n",
        "#combine all dataframes\n",
        "testData = pd.concat(frames)\n",
        "\n",
        "#perform class majority classifer\n",
        "train_data, test_data = train_test_split(testData, test_size = 0.2, random_state = 1)\n",
        "\n",
        "acc = \"{:.2%}\".format((test_data['all_star']>0).sum()/len(test_data['all_star']))\n",
        "print('Majority Classifier : ' + acc)\n",
        "\n",
        "#remove features we are not interested in using in the model\n",
        "features = list(train_data.columns)\n",
        "\n",
        "removing = ['Unnamed: 0', 'Unnamed: 0.1', 'player_name', 'team_abbreviation', 'age', 'player_height', 'player_weight', 'college', 'country', 'draft_year', 'draft_round', 'draft_number', 'season', 'all_star']\n",
        "\n",
        "for i in range(len(removing)):\n",
        "    features.remove(removing[i])"
      ],
      "execution_count": 72,
      "outputs": [
        {
          "output_type": "stream",
          "text": [
            "Majority Classifier : 42.19%\n"
          ],
          "name": "stdout"
        }
      ]
    },
    {
      "cell_type": "code",
      "metadata": {
        "id": "bnQb1rRpuWIr",
        "colab_type": "code",
        "colab": {
          "base_uri": "https://localhost:8080/",
          "height": 87
        },
        "outputId": "e5f47b3a-68da-4eca-bff0-6ee4b8c3fff5"
      },
      "source": [
        "from sklearn.model_selection import RandomizedSearchCV\n",
        "from sklearn.ensemble import RandomForestClassifier\n",
        "#Random Forest\n",
        "\n",
        "# Hyperparameter grid\n",
        "param_grid = {\n",
        "    'n_estimators': np.linspace(10, 200).astype(int),\n",
        "    'max_depth': [None] + list(np.linspace(3, 20).astype(int)),\n",
        "    'max_features': ['auto', 'sqrt', None] + list(np.arange(0.5, 1, 0.1)),\n",
        "    'max_leaf_nodes': [None] + list(np.linspace(10, 50, 500).astype(int)),\n",
        "    'min_samples_split': [2, 5, 10],\n",
        "    'bootstrap': [True, False]\n",
        "}\n",
        "\n",
        "# Estimator for use in random search\n",
        "estimator = RandomForestClassifier(random_state = 1)\n",
        "\n",
        "# Create the random search model\n",
        "rs = RandomizedSearchCV(estimator, param_grid, n_jobs = -1, \n",
        "                        scoring = 'roc_auc', cv = 3, \n",
        "                        n_iter = 10, verbose = 1, random_state=1)\n",
        "\n",
        "# Fit\n",
        "rs.fit(train_data[features], train_data['all_star'])\n",
        "\n",
        "print(rs.best_params_)\n",
        "best_model = rs.best_estimator_"
      ],
      "execution_count": 73,
      "outputs": [
        {
          "output_type": "stream",
          "text": [
            "Fitting 3 folds for each of 10 candidates, totalling 30 fits\n"
          ],
          "name": "stdout"
        },
        {
          "output_type": "stream",
          "text": [
            "[Parallel(n_jobs=-1)]: Using backend LokyBackend with 2 concurrent workers.\n",
            "[Parallel(n_jobs=-1)]: Done  30 out of  30 | elapsed:   10.1s finished\n"
          ],
          "name": "stderr"
        },
        {
          "output_type": "stream",
          "text": [
            "{'n_estimators': 106, 'min_samples_split': 2, 'max_leaf_nodes': 46, 'max_features': 0.8999999999999999, 'max_depth': 15, 'bootstrap': True}\n"
          ],
          "name": "stdout"
        }
      ]
    },
    {
      "cell_type": "code",
      "metadata": {
        "id": "PpNmpCATtNl0",
        "colab_type": "code",
        "colab": {}
      },
      "source": [
        "#Confusion Matrix Function\n",
        "def plot_confusion_matrix(tp, fp, fn, tn):\n",
        "    \"\"\"\n",
        "    Plots a confusion matrix using the values\n",
        "       tp - True Positive\n",
        "       fp - False Positive\n",
        "       fn - False Negative\n",
        "       tn - True Negative\n",
        "    \"\"\"\n",
        "    data = np.matrix([[tp, fp], [fn, tn]])\n",
        "\n",
        "    sns.heatmap(data,annot=True,xticklabels=['Actual Pos', 'Actual Neg']\n",
        "              ,yticklabels=['Pred. Pos', 'Pred. Neg'])"
      ],
      "execution_count": 74,
      "outputs": []
    },
    {
      "cell_type": "code",
      "metadata": {
        "id": "nRhpCeROulIe",
        "colab_type": "code",
        "colab": {
          "base_uri": "https://localhost:8080/",
          "height": 335
        },
        "outputId": "df3f77a7-f175-4aa8-94d6-91c71490889c"
      },
      "source": [
        "from sklearn.metrics import confusion_matrix\n",
        "from sklearn.metrics import accuracy_score\n",
        "\n",
        "rf_pred = best_model.predict(test_data[features])\n",
        "\n",
        "test = test_data['all_star'].values\n",
        "\n",
        "tn, fp, fn, tp = (confusion_matrix(test,rf_pred).ravel())\n",
        "\n",
        "plot_confusion_matrix(tp, fp, fn, tn)\n",
        "\n",
        "accScore = \"{:.2%}\".format(accuracy_score(test,rf_pred))\n",
        "\n",
        "print('Accuracy Score : ' + accScore)\n",
        "\n",
        "#Precision and Recall\n",
        "precision = (tp/(tp+fp))\n",
        "recall = (tp/(tp+fn))\n",
        "F1Score = (2*precision*recall)/(precision+recall)\n",
        "\n",
        "print('Precision : ' + \"{:.2%}\".format(precision))\n",
        "print('Recall : ' + \"{:.2%}\".format(recall))\n",
        "print('F1 Score : ' + \"{:.2%}\".format(F1Score))"
      ],
      "execution_count": 75,
      "outputs": [
        {
          "output_type": "stream",
          "text": [
            "Accuracy Score : 90.14%\n",
            "Precision : 85.98%\n",
            "Recall : 91.56%\n",
            "F1 Score : 88.68%\n"
          ],
          "name": "stdout"
        },
        {
          "output_type": "display_data",
          "data": {
            "image/png": "[encoded data removed]",
            "text/plain": [
              "<Figure size 432x288 with 2 Axes>"
            ]
          },
          "metadata": {
            "tags": [],
            "needs_background": "light"
          }
        }
      ]
    },
    {
      "cell_type": "code",
      "metadata": {
        "id": "UKnErkl5NXw4",
        "colab_type": "code",
        "colab": {
          "base_uri": "https://localhost:8080/",
          "height": 34
        },
        "outputId": "bdd82687-a09c-4b8e-8c91-b8b3a86ca74e"
      },
      "source": [
        "#AUC\n",
        "from sklearn.metrics import roc_auc_score\n",
        "\n",
        "rf_probs = best_model.predict_proba(test_data[features])\n",
        "rf_probs = rf_probs[:,1]\n",
        "rf_auc = roc_auc_score(test_data['all_star'], rf_probs)\n",
        "print(rf_auc)"
      ],
      "execution_count": 76,
      "outputs": [
        {
          "output_type": "stream",
          "text": [
            "0.9552840524404506\n"
          ],
          "name": "stdout"
        }
      ]
    },
    {
      "cell_type": "code",
      "metadata": {
        "id": "jUCUUuvoN0lG",
        "colab_type": "code",
        "colab": {
          "base_uri": "https://localhost:8080/",
          "height": 644
        },
        "outputId": "eeba4cb9-b046-4595-bf11-7c4ebe9c3ac5"
      },
      "source": [
        "#ROC Curve\n",
        "import matplotlib.pyplot as plt\n",
        "from sklearn.metrics import roc_curve\n",
        "\n",
        "r_probs = [0 for _ in range (len(test_data['all_star']))]\n",
        "\n",
        "r_fpr, r_tpr, _ = roc_curve(test_data['all_star'], r_probs)\n",
        "rf_fpr, rf_tpr, _ = roc_curve(test_data['all_star'], rf_probs)\n",
        "\n",
        "plt.rcParams['figure.figsize'] = [10, 10]\n",
        "plt.rcParams.update({'font.size': 18})\n",
        "\n",
        "plt.plot(r_fpr,r_tpr,linewidth = 4, label = 'Random Prediction')\n",
        "plt.plot(rf_fpr, rf_tpr,linewidth = 2,linestyle=':', label = 'Random Forest')\n",
        "\n",
        "plt.title('ROC Curve')\n",
        "\n",
        "plt.xlabel('FPR')\n",
        "plt.ylabel('TPR')\n",
        "\n",
        "plt.legend()\n",
        "plt.show()"
      ],
      "execution_count": 78,
      "outputs": [
        {
          "output_type": "display_data",
          "data": {
            "image/png": "[encoded data removed]",
            "text/plain": [
              "<Figure size 720x720 with 1 Axes>"
            ]
          },
          "metadata": {
            "tags": [],
            "needs_background": "light"
          }
        }
      ]
    }
  ]
}